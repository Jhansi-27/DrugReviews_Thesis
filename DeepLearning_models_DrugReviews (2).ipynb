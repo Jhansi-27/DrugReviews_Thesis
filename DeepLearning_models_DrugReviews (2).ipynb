{
 "cells": [
  {
   "cell_type": "code",
   "execution_count": 100,
   "metadata": {},
   "outputs": [],
   "source": [
    "import numpy as np\n",
    "import pandas as pd\n",
    "import seaborn as sns\n",
    "import re\n",
    "pd.set_option('display.max_colwidth', None)\n",
    "import warnings\n",
    "warnings.filterwarnings(\"ignore\")\n",
    "import matplotlib.pyplot as plt\n",
    "from nltk.corpus import stopwords\n",
    "from collections import Counter\n",
    "# import imblearn\n",
    "# print(imblearn.__version__)\n",
    "import sys\n",
    "from time import time\n",
    "from nltk.tokenize import word_tokenize\n",
    "\n",
    "from sklearn.preprocessing import LabelEncoder\n",
    "from sklearn.model_selection import train_test_split\n",
    "\n",
    "import keras\n",
    "from keras.preprocessing.text import Tokenizer\n",
    "from keras.preprocessing import sequence\n",
    "from keras import layers\n",
    "from keras.layers import LSTM\n",
    "from keras.layers import Dense, Dropout\n",
    "from keras.layers import Embedding,  SimpleRNN\n",
    "from keras.layers import SpatialDropout1D\n",
    "from keras.callbacks import EarlyStopping\n",
    "from keras.utils import plot_model\n",
    "\n",
    "\n",
    "## performance metrics for classification\n",
    "from sklearn.metrics import accuracy_score,roc_auc_score,roc_curve,confusion_matrix,ConfusionMatrixDisplay,classification_report,plot_confusion_matrix"
   ]
  },
  {
   "cell_type": "code",
   "execution_count": 101,
   "metadata": {},
   "outputs": [
    {
     "data": {
      "text/html": [
       "<div>\n",
       "<style scoped>\n",
       "    .dataframe tbody tr th:only-of-type {\n",
       "        vertical-align: middle;\n",
       "    }\n",
       "\n",
       "    .dataframe tbody tr th {\n",
       "        vertical-align: top;\n",
       "    }\n",
       "\n",
       "    .dataframe thead th {\n",
       "        text-align: right;\n",
       "    }\n",
       "</style>\n",
       "<table border=\"1\" class=\"dataframe\">\n",
       "  <thead>\n",
       "    <tr style=\"text-align: right;\">\n",
       "      <th></th>\n",
       "      <th>Condition</th>\n",
       "      <th>review_text</th>\n",
       "    </tr>\n",
       "  </thead>\n",
       "  <tbody>\n",
       "    <tr>\n",
       "      <th>0</th>\n",
       "      <td>Birth Control</td>\n",
       "      <td>havent gotten pregnant job switched brand another generic get nauseous generally feel tired also headache</td>\n",
       "    </tr>\n",
       "    <tr>\n",
       "      <th>1</th>\n",
       "      <td>Birth Control</td>\n",
       "      <td>taking lyza made break horribly tried month bad stopped taking itas inceedible much damaged skin month itas month since stopped taking skin way better still acne really bad scar definitely would take besides acne taking lyza started get period anymore starting month everything else fine didnat give mood swing anything like</td>\n",
       "    </tr>\n",
       "    <tr>\n",
       "      <th>2</th>\n",
       "      <td>Birth Control</td>\n",
       "      <td>stuff need removed market harmful age fast dark racoon eye dark mark neck shortness breath horrible mood swing horrible acne enlarged poor hair loss avoid birth control literally plague</td>\n",
       "    </tr>\n",
       "  </tbody>\n",
       "</table>\n",
       "</div>"
      ],
      "text/plain": [
       "       Condition  \\\n",
       "0  Birth Control   \n",
       "1  Birth Control   \n",
       "2  Birth Control   \n",
       "\n",
       "                                                                                                                                                                                                                                                                                                                            review_text  \n",
       "0                                                                                                                                                                                                                             havent gotten pregnant job switched brand another generic get nauseous generally feel tired also headache  \n",
       "1  taking lyza made break horribly tried month bad stopped taking itas inceedible much damaged skin month itas month since stopped taking skin way better still acne really bad scar definitely would take besides acne taking lyza started get period anymore starting month everything else fine didnat give mood swing anything like  \n",
       "2                                                                                                                                             stuff need removed market harmful age fast dark racoon eye dark mark neck shortness breath horrible mood swing horrible acne enlarged poor hair loss avoid birth control literally plague  "
      ]
     },
     "execution_count": 101,
     "metadata": {},
     "output_type": "execute_result"
    }
   ],
   "source": [
    "df = pd.read_csv(\"cleaned_reviews.csv\")\n",
    "df.head(3)"
   ]
  },
  {
   "cell_type": "code",
   "execution_count": 102,
   "metadata": {},
   "outputs": [
    {
     "data": {
      "text/plain": [
       "(50360, 2)"
      ]
     },
     "execution_count": 102,
     "metadata": {},
     "output_type": "execute_result"
    }
   ],
   "source": [
    "df.shape"
   ]
  },
  {
   "cell_type": "code",
   "execution_count": 103,
   "metadata": {},
   "outputs": [
    {
     "data": {
      "text/plain": [
       "Condition      0\n",
       "review_text    0\n",
       "dtype: int64"
      ]
     },
     "execution_count": 103,
     "metadata": {},
     "output_type": "execute_result"
    }
   ],
   "source": [
    "df.isnull().sum()"
   ]
  },
  {
   "cell_type": "code",
   "execution_count": 104,
   "metadata": {},
   "outputs": [
    {
     "data": {
      "text/plain": [
       "High Blood Pressure         19377\n",
       "Depression                  12686\n",
       "Birth Control               11940\n",
       "Type 2 Diabetes Mellitus     6357\n",
       "Name: Condition, dtype: int64"
      ]
     },
     "execution_count": 104,
     "metadata": {},
     "output_type": "execute_result"
    }
   ],
   "source": [
    "df.Condition.value_counts()"
   ]
  },
  {
   "cell_type": "code",
   "execution_count": 105,
   "metadata": {},
   "outputs": [
    {
     "name": "stdout",
     "output_type": "stream",
     "text": [
      "Total number of unique words in the corpus: 39908\n"
     ]
    }
   ],
   "source": [
    "full_text = \" \".join(df['review_text'])\n",
    "tokens = [review for review in word_tokenize(full_text)]\n",
    "number_of_words = len(set(tokens))\n",
    "print(\"Total number of unique words in the corpus:\",number_of_words)"
   ]
  },
  {
   "cell_type": "markdown",
   "metadata": {},
   "source": [
    "## Separating X and Y"
   ]
  },
  {
   "cell_type": "code",
   "execution_count": 106,
   "metadata": {},
   "outputs": [],
   "source": [
    "X = df.review_text"
   ]
  },
  {
   "cell_type": "code",
   "execution_count": 107,
   "metadata": {},
   "outputs": [
    {
     "data": {
      "text/plain": [
       "array([0, 0, 0, ..., 0, 0, 0])"
      ]
     },
     "execution_count": 107,
     "metadata": {},
     "output_type": "execute_result"
    }
   ],
   "source": [
    "# encoding the class label\n",
    "le = LabelEncoder()\n",
    "Y = le.fit_transform( df['Condition'])\n",
    "Y = np.array(Y)\n",
    "Y"
   ]
  },
  {
   "cell_type": "code",
   "execution_count": 108,
   "metadata": {},
   "outputs": [
    {
     "data": {
      "text/plain": [
       "array(['Birth Control', 'Depression', 'High Blood Pressure',\n",
       "       'Type 2 Diabetes Mellitus'], dtype=object)"
      ]
     },
     "execution_count": 108,
     "metadata": {},
     "output_type": "execute_result"
    }
   ],
   "source": [
    "le.inverse_transform([0,1,2,3])"
   ]
  },
  {
   "cell_type": "markdown",
   "metadata": {},
   "source": [
    "## Train/Test split the data"
   ]
  },
  {
   "cell_type": "code",
   "execution_count": 109,
   "metadata": {},
   "outputs": [
    {
     "name": "stdout",
     "output_type": "stream",
     "text": [
      "(45324,) (45324,)\n",
      "(5036,) (5036,)\n"
     ]
    }
   ],
   "source": [
    "X_train, X_test, Y_train, Y_test = train_test_split(X,\n",
    "                                                    Y,\n",
    "                                                    stratify=Y,\n",
    "                                                    test_size = 0.10,\n",
    "                                                    random_state = 12)\n",
    "print(X_train.shape,Y_train.shape)\n",
    "print(X_test.shape,Y_test.shape)"
   ]
  },
  {
   "cell_type": "code",
   "execution_count": 110,
   "metadata": {},
   "outputs": [
    {
     "data": {
      "text/plain": [
       "42081                                                                    going stop taking colicky baby weight gain started taking baby week old thats got colic\n",
       "48       switched nuvaring low ogestrel ten day ago gained lb last day extremely active individual work least day week watch eat immediately stopping medication\n",
       "Name: review_text, dtype: object"
      ]
     },
     "execution_count": 110,
     "metadata": {},
     "output_type": "execute_result"
    }
   ],
   "source": [
    "X_train.head(2)"
   ]
  },
  {
   "cell_type": "code",
   "execution_count": 111,
   "metadata": {},
   "outputs": [
    {
     "name": "stdout",
     "output_type": "stream",
     "text": [
      "Y_train: Counter({2: 17439, 1: 11418, 0: 10746, 3: 5721})\n",
      "Y_test: Counter({2: 1938, 1: 1268, 0: 1194, 3: 636})\n"
     ]
    }
   ],
   "source": [
    "print('Y_train:',Counter(Y_train))\n",
    "print('Y_test:',Counter(Y_test))"
   ]
  },
  {
   "cell_type": "markdown",
   "metadata": {},
   "source": [
    "## Tokenization and padding sequences"
   ]
  },
  {
   "cell_type": "code",
   "execution_count": 150,
   "metadata": {},
   "outputs": [],
   "source": [
    "# creating tokenizer and configuring it to only take into account the top-20000 most frequent words\n",
    "max_features = 20000\n",
    "# Maximum number of words(sequence length) for padding sequences\n",
    "max_seq_len = 50\n",
    "# embedding layer dimensions\n",
    "embedding_dim = 100"
   ]
  },
  {
   "cell_type": "code",
   "execution_count": 151,
   "metadata": {},
   "outputs": [],
   "source": [
    "# word_index = tokenizer.word_index\n",
    "# print(f'{len(word_index)} unique tokens found.' )"
   ]
  },
  {
   "cell_type": "code",
   "execution_count": 197,
   "metadata": {},
   "outputs": [
    {
     "name": "stdout",
     "output_type": "stream",
     "text": [
      "Shape of data tensor: (45324, 50)\n"
     ]
    },
    {
     "data": {
      "text/plain": [
       "array([[  49,  112,    1, ...,    0,    0,    0],\n",
       "       [  90,  458,  124, ...,    0,    0,    0],\n",
       "       [ 182,   56,    0, ...,    0,    0,    0],\n",
       "       ...,\n",
       "       [  37,   27,  265, ...,    0,    0,    0],\n",
       "       [  28,  100,  363, ...,    0,    0,    0],\n",
       "       [1853,   58,   22, ...,  231,  355,    0]])"
      ]
     },
     "execution_count": 197,
     "metadata": {},
     "output_type": "execute_result"
    }
   ],
   "source": [
    "tokenizer = Tokenizer(num_words=max_features)\n",
    "tokenizer.fit_on_texts(X_train)\n",
    "tokenizer.num_words = max_features\n",
    "x_vectorised = tokenizer.texts_to_sequences(X_train)\n",
    "\n",
    "x_train_padded = sequence.pad_sequences(x_vectorised , \n",
    "                                  maxlen=max_seq_len,\n",
    "                                  padding='post',\n",
    "                                  truncating='post')\n",
    "print('Shape of data tensor:', x_train_padded.shape)\n",
    "x_train_padded"
   ]
  },
  {
   "cell_type": "code",
   "execution_count": 198,
   "metadata": {},
   "outputs": [
    {
     "name": "stdout",
     "output_type": "stream",
     "text": [
      "Shape of data tensor: (5036, 50)\n"
     ]
    },
    {
     "data": {
      "text/plain": [
       "array([[  90, 2769,  438, ...,    0,    0,    0],\n",
       "       [ 355,  122,   18, ...,    0,    0,    0],\n",
       "       [ 267,  147,   37, ..., 3167,   50,  107],\n",
       "       ...,\n",
       "       [ 882,   64, 1625, ...,    0,    0,    0],\n",
       "       [  53, 7901,   22, ...,    0,    0,    0],\n",
       "       [ 197,  746,    0, ...,    0,    0,    0]])"
      ]
     },
     "execution_count": 198,
     "metadata": {},
     "output_type": "execute_result"
    }
   ],
   "source": [
    "x_test_vectorised = tokenizer.texts_to_sequences(X_test)\n",
    "\n",
    "x_test_padded     = sequence.pad_sequences(x_test_vectorised , \n",
    "                                  maxlen=max_seq_len,\n",
    "                                  padding='post',\n",
    "                                  truncating='post')\n",
    "print('Shape of data tensor:', x_test_padded.shape)\n",
    "x_test_padded"
   ]
  },
  {
   "cell_type": "code",
   "execution_count": 154,
   "metadata": {},
   "outputs": [
    {
     "data": {
      "text/plain": [
       "(45324,)"
      ]
     },
     "execution_count": 154,
     "metadata": {},
     "output_type": "execute_result"
    }
   ],
   "source": [
    "Y_train.shape"
   ]
  },
  {
   "cell_type": "code",
   "execution_count": 155,
   "metadata": {},
   "outputs": [
    {
     "name": "stdout",
     "output_type": "stream",
     "text": [
      "42081    going stop taking colicky baby weight gain started taking baby week old thats got colic\n",
      "Name: review_text, dtype: object\n",
      "[[49, 112, 1, 16797, 469, 24, 60, 14, 1, 469, 8, 188, 308, 53, 9056]]\n"
     ]
    }
   ],
   "source": [
    "print(X_train[:1])\n",
    "print(x_vectorised[:1])"
   ]
  },
  {
   "cell_type": "code",
   "execution_count": 156,
   "metadata": {},
   "outputs": [
    {
     "name": "stdout",
     "output_type": "stream",
     "text": [
      "49\n",
      "112\n"
     ]
    }
   ],
   "source": [
    "print(word_index['going'])\n",
    "print(word_index['stop'])"
   ]
  },
  {
   "cell_type": "markdown",
   "metadata": {},
   "source": [
    "### calculating class weights"
   ]
  },
  {
   "cell_type": "code",
   "execution_count": 157,
   "metadata": {},
   "outputs": [
    {
     "data": {
      "text/plain": [
       "High Blood Pressure         19377\n",
       "Depression                  12686\n",
       "Birth Control               11940\n",
       "Type 2 Diabetes Mellitus     6357\n",
       "Name: Condition, dtype: int64"
      ]
     },
     "execution_count": 157,
     "metadata": {},
     "output_type": "execute_result"
    }
   ],
   "source": [
    "df.Condition.value_counts()"
   ]
  },
  {
   "cell_type": "code",
   "execution_count": 159,
   "metadata": {},
   "outputs": [
    {
     "name": "stdout",
     "output_type": "stream",
     "text": [
      "1.0544388609715243\n",
      "0.9924326028693048\n",
      "0.6497393817412396\n",
      "1.9804939436841278\n"
     ]
    },
    {
     "data": {
      "text/plain": [
       "{0: 1.0544388609715243,\n",
       " 1: 0.9924326028693048,\n",
       " 2: 0.6497393817412396,\n",
       " 3: 1.9804939436841278}"
      ]
     },
     "execution_count": 159,
     "metadata": {},
     "output_type": "execute_result"
    }
   ],
   "source": [
    "#wj=n_samples / (n_classes * n_samplesj)\n",
    "\n",
    "zero_class = 50360/(4*11940) # Birth Control\n",
    "print(zero_class)\n",
    "first_class = 50360/(4*12686) # Depression\n",
    "print(first_class)\n",
    "second_class = 50360/(4*19377) # High Blood Pressure\n",
    "print(second_class)\n",
    "third_class = 50360/(4*6357) # Type 2 Diabetes Mellitus\n",
    "print(third_class)\n",
    "\n",
    "class_weights = {0:zero_class,1:first_class,2:second_class,3:third_class}\n",
    "class_weights"
   ]
  },
  {
   "cell_type": "markdown",
   "metadata": {},
   "source": [
    "# LSTM witk Keras Embedding Layer"
   ]
  },
  {
   "cell_type": "code",
   "execution_count": 160,
   "metadata": {},
   "outputs": [
    {
     "name": "stdout",
     "output_type": "stream",
     "text": [
      "20000 100 50\n",
      "Model: \"sequential_12\"\n",
      "_________________________________________________________________\n",
      "Layer (type)                 Output Shape              Param #   \n",
      "=================================================================\n",
      "embedding_12 (Embedding)     (None, 50, 100)           2000000   \n",
      "_________________________________________________________________\n",
      "spatial_dropout1d_10 (Spatia (None, 50, 100)           0         \n",
      "_________________________________________________________________\n",
      "lstm_12 (LSTM)               (None, 100)               80400     \n",
      "_________________________________________________________________\n",
      "dense_24 (Dense)             (None, 64)                6464      \n",
      "_________________________________________________________________\n",
      "dropout_12 (Dropout)         (None, 64)                0         \n",
      "_________________________________________________________________\n",
      "dense_25 (Dense)             (None, 4)                 260       \n",
      "=================================================================\n",
      "Total params: 2,087,124\n",
      "Trainable params: 2,087,124\n",
      "Non-trainable params: 0\n",
      "_________________________________________________________________\n"
     ]
    }
   ],
   "source": [
    "model_lstm = keras.Sequential()\n",
    "print(max_features, embedding_dim, max_seq_len)\n",
    "model_lstm.add(Embedding(max_features, embedding_dim, input_length=max_seq_len))\n",
    "model_lstm.add(SpatialDropout1D(0.2))\n",
    "model_lstm.add(LSTM(100, dropout=0.2, recurrent_dropout=0.2))\n",
    "model_lstm.add(Dense(64,activation='relu'))\n",
    "model_lstm.add(Dropout(0.1))\n",
    "model_lstm.add(Dense(4, activation='softmax'))\n",
    "model_lstm.compile(loss='sparse_categorical_crossentropy', optimizer='adam', metrics=['accuracy'])\n",
    "\n",
    "model = model_lstm.summary()\n",
    "\n",
    "#plot_model(model, to_file='lstm_model.png',show_shapes=True,dpi=96)\n",
    "\n"
   ]
  },
  {
   "cell_type": "code",
   "execution_count": 161,
   "metadata": {},
   "outputs": [
    {
     "name": "stdout",
     "output_type": "stream",
     "text": [
      "Epoch 1/20\n",
      "319/319 [==============================] - 39s 117ms/step - loss: 1.0572 - accuracy: 0.4842 - val_loss: 0.5640 - val_accuracy: 0.7529\n",
      "Epoch 2/20\n",
      "319/319 [==============================] - 40s 126ms/step - loss: 0.4859 - accuracy: 0.7739 - val_loss: 0.3620 - val_accuracy: 0.8729\n",
      "Epoch 3/20\n",
      "319/319 [==============================] - 39s 123ms/step - loss: 0.3143 - accuracy: 0.8790 - val_loss: 0.3406 - val_accuracy: 0.8904\n",
      "Epoch 4/20\n",
      "319/319 [==============================] - 39s 122ms/step - loss: 0.2581 - accuracy: 0.9045 - val_loss: 0.3513 - val_accuracy: 0.8720\n",
      "Epoch 5/20\n",
      "319/319 [==============================] - 39s 123ms/step - loss: 0.2216 - accuracy: 0.9155 - val_loss: 0.3412 - val_accuracy: 0.8923\n",
      "Epoch 6/20\n",
      "319/319 [==============================] - 39s 123ms/step - loss: 0.1912 - accuracy: 0.9265 - val_loss: 0.3388 - val_accuracy: 0.8890\n",
      "Epoch 7/20\n",
      "319/319 [==============================] - 39s 122ms/step - loss: 0.1826 - accuracy: 0.9313 - val_loss: 0.3526 - val_accuracy: 0.8877\n",
      "Epoch 8/20\n",
      "319/319 [==============================] - 39s 123ms/step - loss: 0.1700 - accuracy: 0.9385 - val_loss: 0.3411 - val_accuracy: 0.8906\n",
      "Epoch 9/20\n",
      "319/319 [==============================] - 39s 124ms/step - loss: 0.1561 - accuracy: 0.9426 - val_loss: 0.3511 - val_accuracy: 0.8840\n",
      "Time taken for the model to train & evaluate : 353.7943105697632\n"
     ]
    }
   ],
   "source": [
    "epochs = 20\n",
    "batch_size = 128\n",
    "start = time()\n",
    "history = model_lstm.fit(x_train_padded,\n",
    "                        Y_train, \n",
    "                        class_weight=class_weights,\n",
    "                        epochs=epochs, \n",
    "                        batch_size=batch_size,\n",
    "                        validation_split=0.1,\n",
    "                        callbacks=[EarlyStopping(monitor='val_loss', patience=3, min_delta=0.0001)]\n",
    "                    )\n",
    "print(\"Time taken for the model to train & evaluate :\",time()-start)"
   ]
  },
  {
   "cell_type": "code",
   "execution_count": 132,
   "metadata": {},
   "outputs": [
    {
     "name": "stdout",
     "output_type": "stream",
     "text": [
      "158/158 [==============================] - 1s 7ms/step - loss: 0.3768 - accuracy: 0.8946\n",
      "Test set:\n",
      "  Loss: 0.3768123984336853 \n",
      "  Accuracy:89.46%\n"
     ]
    }
   ],
   "source": [
    "acc_lstm = model_lstm.evaluate(x_test_padded,Y_test)\n",
    "print(f'Test set:\\n  Loss: {acc_lstm[0]} \\n  Accuracy:{round(acc_lstm[1]*100,2)}%')"
   ]
  },
  {
   "cell_type": "code",
   "execution_count": 163,
   "metadata": {},
   "outputs": [
    {
     "data": {
      "image/png": "[encoded data removed]",
      "text/plain": [
       "<Figure size 1152x432 with 2 Axes>"
      ]
     },
     "metadata": {
      "needs_background": "light"
     },
     "output_type": "display_data"
    }
   ],
   "source": [
    "train_acc = history.history['accuracy']\n",
    "val_acc = history.history['val_accuracy']\n",
    "loss = history.history['loss']\n",
    "val_loss = history.history['val_loss']\n",
    "\n",
    "epochs = range(len(train_acc))\n",
    "\n",
    "plt.figure(figsize=(16,6))\n",
    "plt.subplot(121)\n",
    "plt.plot(epochs, train_acc, 'r-o', label='Training accuracy')\n",
    "plt.plot(epochs, val_acc, 'b--o', label='Validation accuracy')\n",
    "plt.title('Training and validation accuracy')\n",
    "plt.xlabel('epochs')\n",
    "plt.ylabel('accuracy')\n",
    "plt.legend()\n",
    "\n",
    "plt.subplot(122)\n",
    "plt.plot(epochs, loss, 'r-o', label='Training Loss')\n",
    "plt.plot(epochs, val_loss, 'b--o', label='Validation Loss')\n",
    "plt.title('Training and validation loss')\n",
    "plt.xlabel('epochs')\n",
    "plt.ylabel('loss')\n",
    "plt.legend()\n",
    "\n",
    "plt.savefig('LSTM_model_result.png')"
   ]
  },
  {
   "cell_type": "code",
   "execution_count": 164,
   "metadata": {},
   "outputs": [],
   "source": [
    "y_predicted = model_lstm.predict(x_test_padded)\n",
    "\n",
    "pred_list = list(y_predicted)\n",
    "predicted_classes = [np.argmax(pred) for pred in pred_list]\n"
   ]
  },
  {
   "cell_type": "code",
   "execution_count": 165,
   "metadata": {},
   "outputs": [
    {
     "name": "stdout",
     "output_type": "stream",
     "text": [
      "Confusion Matrix: \n",
      " [[1142   21   23    8]\n",
      " [  22 1142   86   18]\n",
      " [  44  173 1626   95]\n",
      " [   7   23   76  530]]\n",
      " \n",
      "Classification Report : \n",
      "               precision    recall  f1-score   support\n",
      "\n",
      "           0       0.94      0.96      0.95      1194\n",
      "           1       0.84      0.90      0.87      1268\n",
      "           2       0.90      0.84      0.87      1938\n",
      "           3       0.81      0.83      0.82       636\n",
      "\n",
      "    accuracy                           0.88      5036\n",
      "   macro avg       0.87      0.88      0.88      5036\n",
      "weighted avg       0.88      0.88      0.88      5036\n",
      "\n"
     ]
    },
    {
     "data": {
      "image/png": "[encoded data removed]",
      "text/plain": [
       "<Figure size 576x432 with 2 Axes>"
      ]
     },
     "metadata": {
      "needs_background": "light"
     },
     "output_type": "display_data"
    }
   ],
   "source": [
    "# Plotting Confusion Matrix\n",
    "import seaborn as sns\n",
    "cm = confusion_matrix(Y_test, predicted_classes)\n",
    "\n",
    "print(\"Confusion Matrix: \\n\",cm)\n",
    "fig, ax = plt.subplots(figsize=(8, 6))\n",
    "disp = ConfusionMatrixDisplay(cm)\n",
    "disp.plot(cmap='Oranges',ax=ax)  \n",
    "labels = ['Birth Control','Depression','High Blood Pressure','Type2 Diabetes Mellitus']\n",
    "ax.xaxis.set_ticklabels(labels,rotation=20); ax.yaxis.set_ticklabels(labels,rotation=30);\n",
    "\n",
    " ## printing Classification Report: A text report showing the main classification metrics.\n",
    "print(\" \")\n",
    "print(\"Classification Report : \\n\", classification_report(Y_test, predicted_classes))"
   ]
  },
  {
   "cell_type": "code",
   "execution_count": 171,
   "metadata": {},
   "outputs": [
    {
     "name": "stdout",
     "output_type": "stream",
     "text": [
      "[[0.20319086 0.38347656 0.35071567 0.0626169 ]] Depression\n"
     ]
    }
   ],
   "source": [
    "new_complaint = ['do not take this year old has just attempted to take her own life after months on this pill She was happy go lucky till taking this. I sit here crying writing this seeing what its done to my girl it should be banned']\n",
    "seq = tokenizer.texts_to_sequences(new_complaint)\n",
    "padded = sequence.pad_sequences(seq, maxlen=max_seq_len)\n",
    "pred = model_lstm.predict(padded)\n",
    "labels = ['Birth Control', 'Depression', 'High Blood Pressure','Type 2 Diabetes Mellitus']\n",
    "print(pred, labels[np.argmax(pred)])"
   ]
  },
  {
   "cell_type": "code",
   "execution_count": 167,
   "metadata": {},
   "outputs": [
    {
     "data": {
      "text/plain": [
       "array(['Birth Control', 'Depression', 'High Blood Pressure',\n",
       "       'Type 2 Diabetes Mellitus'], dtype=object)"
      ]
     },
     "execution_count": 167,
     "metadata": {},
     "output_type": "execute_result"
    }
   ],
   "source": [
    "le.inverse_transform([0,1,2,3])"
   ]
  },
  {
   "cell_type": "code",
   "execution_count": 168,
   "metadata": {},
   "outputs": [
    {
     "name": "stdout",
     "output_type": "stream",
     "text": [
      "[[0.00142315 0.28067434 0.06261667 0.6552859 ]] Type 2 Diabetes Mellitus\n"
     ]
    }
   ],
   "source": [
    "diab_symptoms = [\"Thirst Headaches Trouble concentrating Blurred vision Frequent peeing  Weight loss sugar more than 180 \"]\n",
    "seq = tokenizer.texts_to_sequences(diab_symptoms)\n",
    "padded = sequence.pad_sequences(seq, maxlen=max_seq_len)\n",
    "pred = model_lstm.predict(padded)\n",
    "labels = ['Birth Control', 'Depression', 'High Blood Pressure','Type 2 Diabetes Mellitus']\n",
    "print(pred, labels[np.argmax(pred)])"
   ]
  },
  {
   "cell_type": "markdown",
   "metadata": {},
   "source": [
    "## LSTM with pretrained vectors(Glove)"
   ]
  },
  {
   "cell_type": "code",
   "execution_count": 225,
   "metadata": {},
   "outputs": [],
   "source": [
    "embed_dictionary = {}\n",
    "\n",
    "with open(\"glove.6B.200d.txt\",\"r\",encoding=\"utf8\") as file:\n",
    "    for each_line in file:\n",
    "        values = each_line.split()\n",
    "        each_word = values[0]\n",
    "        its_vector = np.asarray(values[1:], dtype='float32')\n",
    "        embed_dictionary[each_word] = its_vector"
   ]
  },
  {
   "cell_type": "code",
   "execution_count": 226,
   "metadata": {},
   "outputs": [
    {
     "data": {
      "text/plain": [
       "(35050, 200)"
      ]
     },
     "execution_count": 226,
     "metadata": {},
     "output_type": "execute_result"
    }
   ],
   "source": [
    "embed_matrix= np.zeros((len(word_index)+1, 200)) #100\n",
    "\n",
    "for word, vec in word_index.items():\n",
    "    if its_index <= len(word_index):\n",
    "        embedding_vec = embed_dictionary.get(word)\n",
    "        if embedding_vec is not None:\n",
    "            embed_matrix[vec] = embedding_vec\n",
    "embed_matrix.shape"
   ]
  },
  {
   "cell_type": "code",
   "execution_count": 228,
   "metadata": {},
   "outputs": [
    {
     "name": "stdout",
     "output_type": "stream",
     "text": [
      "Model: \"sequential_26\"\n",
      "_________________________________________________________________\n",
      "Layer (type)                 Output Shape              Param #   \n",
      "=================================================================\n",
      "embedding_24 (Embedding)     (None, 50, 200)           7010000   \n",
      "_________________________________________________________________\n",
      "spatial_dropout1d_13 (Spatia (None, 50, 200)           0         \n",
      "_________________________________________________________________\n",
      "lstm_15 (LSTM)               (None, 100)               120400    \n",
      "_________________________________________________________________\n",
      "dense_30 (Dense)             (None, 64)                6464      \n",
      "_________________________________________________________________\n",
      "dropout_15 (Dropout)         (None, 64)                0         \n",
      "_________________________________________________________________\n",
      "dense_31 (Dense)             (None, 4)                 260       \n",
      "=================================================================\n",
      "Total params: 7,137,124\n",
      "Trainable params: 127,124\n",
      "Non-trainable params: 7,010,000\n",
      "_________________________________________________________________\n"
     ]
    }
   ],
   "source": [
    "from keras.initializers import Constant\n",
    "\n",
    "model_lstm_glove = keras.Sequential()\n",
    "\n",
    "\n",
    "model_lstm_glove.add(Embedding(len(word_index)+1, \n",
    "                               200,\n",
    "                               #embedding_dim, \n",
    "                               input_length=max_seq_len,\n",
    "                               embeddings_initializer = Constant(embed_matrix),\n",
    "                               trainable = False))\n",
    "\n",
    "model_lstm_glove.add(SpatialDropout1D(0.2))\n",
    "model_lstm_glove.add(LSTM(100, dropout=0.2, recurrent_dropout=0.2))\n",
    "model_lstm_glove.add(Dense(64,activation='relu'))\n",
    "model_lstm_glove.add(Dropout(0.1))\n",
    "model_lstm_glove.add(Dense(4, activation='softmax'))\n",
    "model_lstm_glove.compile(loss='sparse_categorical_crossentropy', optimizer='adam', metrics=['accuracy'])\n",
    "\n",
    "model = model_lstm_glove.summary()"
   ]
  },
  {
   "cell_type": "code",
   "execution_count": 229,
   "metadata": {},
   "outputs": [
    {
     "name": "stdout",
     "output_type": "stream",
     "text": [
      "Epoch 1/25\n",
      "160/160 [==============================] - 153s 882ms/step - loss: 1.2696 - accuracy: 0.3896 - val_loss: 0.8845 - val_accuracy: 0.6431\n",
      "Epoch 2/25\n",
      "160/160 [==============================] - 139s 870ms/step - loss: 0.9111 - accuracy: 0.5571 - val_loss: 0.7557 - val_accuracy: 0.6640\n",
      "Epoch 3/25\n",
      "160/160 [==============================] - 139s 872ms/step - loss: 0.7794 - accuracy: 0.6338 - val_loss: 0.6424 - val_accuracy: 0.7203\n",
      "Epoch 4/25\n",
      "160/160 [==============================] - 138s 865ms/step - loss: 0.6377 - accuracy: 0.7231 - val_loss: 0.6056 - val_accuracy: 0.7256\n",
      "Epoch 5/25\n",
      "160/160 [==============================] - 139s 867ms/step - loss: 0.5775 - accuracy: 0.7453 - val_loss: 0.5091 - val_accuracy: 0.8012\n",
      "Epoch 6/25\n",
      "160/160 [==============================] - 138s 863ms/step - loss: 0.5410 - accuracy: 0.7655 - val_loss: 0.5193 - val_accuracy: 0.7895\n",
      "Epoch 7/25\n",
      "160/160 [==============================] - 136s 853ms/step - loss: 0.5231 - accuracy: 0.7751 - val_loss: 0.4703 - val_accuracy: 0.8246\n",
      "Epoch 8/25\n",
      "160/160 [==============================] - 138s 863ms/step - loss: 0.4960 - accuracy: 0.7871 - val_loss: 0.4591 - val_accuracy: 0.8222\n",
      "Epoch 9/25\n",
      "160/160 [==============================] - 139s 868ms/step - loss: 0.4731 - accuracy: 0.7918 - val_loss: 0.4531 - val_accuracy: 0.8359\n",
      "Epoch 10/25\n",
      "160/160 [==============================] - 137s 854ms/step - loss: 0.4584 - accuracy: 0.8061 - val_loss: 0.4440 - val_accuracy: 0.8233\n",
      "Epoch 11/25\n",
      "160/160 [==============================] - 136s 852ms/step - loss: 0.4516 - accuracy: 0.8096 - val_loss: 0.4396 - val_accuracy: 0.8368\n",
      "Epoch 12/25\n",
      "160/160 [==============================] - 138s 862ms/step - loss: 0.4326 - accuracy: 0.8201 - val_loss: 0.4080 - val_accuracy: 0.8467\n",
      "Epoch 13/25\n",
      "160/160 [==============================] - 138s 863ms/step - loss: 0.4362 - accuracy: 0.8171 - val_loss: 0.4613 - val_accuracy: 0.8112\n",
      "Epoch 14/25\n",
      "160/160 [==============================] - 137s 859ms/step - loss: 0.4148 - accuracy: 0.8294 - val_loss: 0.4323 - val_accuracy: 0.8312\n",
      "Epoch 15/25\n",
      "160/160 [==============================] - 137s 856ms/step - loss: 0.4076 - accuracy: 0.8286 - val_loss: 0.4485 - val_accuracy: 0.8273\n",
      "Time taken for the model to train & evaluate : 2084.2347424030304\n"
     ]
    }
   ],
   "source": [
    "epochs = 25\n",
    "batch_size = 256\n",
    "start = time()\n",
    "history = model_lstm_glove.fit(x_train_padded,\n",
    "                                Y_train, \n",
    "                                class_weight=class_weights,\n",
    "                                epochs=epochs, \n",
    "                                batch_size=batch_size,\n",
    "                                validation_split=0.1,\n",
    "                                callbacks=[EarlyStopping(monitor='val_loss', patience=3)]\n",
    "                    )\n",
    "print(\"Time taken for the model to train & evaluate :\",time()-start)"
   ]
  },
  {
   "cell_type": "code",
   "execution_count": 230,
   "metadata": {},
   "outputs": [
    {
     "name": "stdout",
     "output_type": "stream",
     "text": [
      "158/158 [==============================] - 11s 71ms/step - loss: 0.4464 - accuracy: 0.8320\n",
      "Test set:\n",
      "  Loss: 0.4464266002178192 \n",
      "  Accuracy:83.2%\n"
     ]
    }
   ],
   "source": [
    "acc_lstm = model_lstm_glove.evaluate(x_test_padded,Y_test)\n",
    "print(f'Test set:\\n  Loss: {acc_lstm[0]} \\n  Accuracy:{round(acc_lstm[1]*100,2)}%')"
   ]
  },
  {
   "cell_type": "code",
   "execution_count": 217,
   "metadata": {},
   "outputs": [
    {
     "data": {
      "image/png": "[encoded data removed]",
      "text/plain": [
       "<Figure size 1152x432 with 2 Axes>"
      ]
     },
     "metadata": {
      "needs_background": "light"
     },
     "output_type": "display_data"
    }
   ],
   "source": [
    "train_acc = history.history['accuracy']\n",
    "val_acc = history.history['val_accuracy']\n",
    "loss = history.history['loss']\n",
    "val_loss = history.history['val_loss']\n",
    "\n",
    "epochs = range(len(train_acc))\n",
    "\n",
    "plt.figure(figsize=(16,6))\n",
    "plt.subplot(121)\n",
    "plt.plot(epochs, train_acc, 'r-o', label='Training accuracy')\n",
    "plt.plot(epochs, val_acc, 'b--o', label='Validation accuracy')\n",
    "plt.title('Training and validation accuracy')\n",
    "plt.xlabel('epochs')\n",
    "plt.ylabel('accuracy')\n",
    "plt.legend()\n",
    "\n",
    "plt.subplot(122)\n",
    "plt.plot(epochs, loss, 'r-o', label='Training Loss')\n",
    "plt.plot(epochs, val_loss, 'b--o', label='Validation Loss')\n",
    "plt.title('Training and validation loss')\n",
    "plt.xlabel('epochs')\n",
    "plt.ylabel('loss')\n",
    "plt.legend()\n",
    "\n",
    "\n",
    "plt.savefig('LSTM_model_Glove_result.png')"
   ]
  },
  {
   "cell_type": "code",
   "execution_count": 218,
   "metadata": {},
   "outputs": [
    {
     "name": "stdout",
     "output_type": "stream",
     "text": [
      "[[0.20319086 0.38347656 0.35071567 0.0626169 ]] Depression\n"
     ]
    }
   ],
   "source": [
    "new_complaint = ['do not take this year old has just attempted to take her own life after months on this pill She was happy go lucky till taking this. I sit here crying writing this seeing what its done to my girl it should be banned']\n",
    "seq = tokenizer.texts_to_sequences(new_complaint)\n",
    "padded = sequence.pad_sequences(seq, maxlen=max_seq_len)\n",
    "pred = model_lstm.predict(padded)\n",
    "labels = ['Birth Control', 'Depression', 'High Blood Pressure','Type 2 Diabetes Mellitus']\n",
    "print(pred, labels[np.argmax(pred)])"
   ]
  },
  {
   "cell_type": "code",
   "execution_count": null,
   "metadata": {},
   "outputs": [],
   "source": []
  }
 ],
 "metadata": {
  "kernelspec": {
   "display_name": "Python 3",
   "language": "python",
   "name": "python3"
  },
  "language_info": {
   "codemirror_mode": {
    "name": "ipython",
    "version": 3
   },
   "file_extension": ".py",
   "mimetype": "text/x-python",
   "name": "python",
   "nbconvert_exporter": "python",
   "pygments_lexer": "ipython3",
   "version": "3.8.5"
  }
 },
 "nbformat": 4,
 "nbformat_minor": 4
}
